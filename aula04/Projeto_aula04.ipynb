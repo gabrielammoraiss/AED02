{
 "cells": [
  {
   "cell_type": "markdown",
   "id": "7b2aaf16-8ede-40ea-9ec1-d6094c1dc867",
   "metadata": {},
   "source": [
    "Busca Eficiente em um Índice de Livros\n",
    "Contexto: Você está trabalhando em um projeto para\n",
    "gerenciar uma biblioteca. As informações sobre os livros\n",
    "(título, autor, ano de publicação) estão armazenadas em\n",
    "uma lista, e essa lista é mantida ordenada alfabeticamente\n",
    "pelo título do livro.\n",
    "Problema: Os usuários precisam encontrar rapidamente\n",
    "um livro específico sabendo seu título. Uma busca\n",
    "ineficiente pode dificultar a localização dos livros\n",
    "desejados."
   ]
  },
  {
   "cell_type": "code",
   "execution_count": 14,
   "id": "a07470e6-ca6a-4567-aaba-be466144b1bf",
   "metadata": {},
   "outputs": [
    {
     "name": "stdin",
     "output_type": "stream",
     "text": [
      "Digite o livro procurado:  A Metamorfose\n"
     ]
    },
    {
     "name": "stdout",
     "output_type": "stream",
     "text": [
      "O livro \"A Metamorfose\" não foi localizado.\n"
     ]
    }
   ],
   "source": [
    "lista = [\n",
    "    {'titulo': 'Harry Portter','autor':'J. K. Rowling','ano': 2011},\n",
    "    {'titulo': 'Fundação','autor': 'Isaac Asimov','ano': 1951},\n",
    "    {'titulo': 'Clube Da Luta','autor': 'Chuck Palahniuk','ano': 1996 },\n",
    "    {'titulo': '1984','autor': 'George Orwell','ano': 1949},\n",
    "    {'titulo': 'Laranja Mecânica','Autor':'Anthony Burgess','ano': 1962},\n",
    "    ]\n",
    "    \n",
    "lista.sort(key=lambda item: item['titulo'])\n",
    "\n",
    "def busca_livro(lista,titulo):\n",
    "    inicio = 0\n",
    "    fim = len(lista) -1\n",
    "    while inicio <= fim:\n",
    "        meio = (inicio + fim)//2\n",
    "        if titulo == lista[meio]['titulo']:\n",
    "            return lista[meio]\n",
    "        if titulo < lista[meio]['titulo']:\n",
    "            fim = meio - 1\n",
    "        else:\n",
    "            inicio = meio + 1\n",
    "    return None\n",
    "\n",
    "titulo = input (\"Digite o livro procurado: \").title()\n",
    "\n",
    "\n",
    "\n",
    "resultado = busca_livro(lista, titulo)\n",
    "\n",
    "if resultado:  \n",
    "    print(f\"Titulo do livro: {resultado['titulo']}\")\n",
    "    print(f\"Autor: {resultado['autor']}\")\n",
    "    print(f\"Ano: {resultado['ano']}\")\n",
    "else:\n",
    "    print(f'O livro \"{titulo}\" não foi localizado.')"
   ]
  },
  {
   "cell_type": "code",
   "execution_count": null,
   "id": "be24e267-111c-4485-be7f-d4d5c670781a",
   "metadata": {},
   "outputs": [],
   "source": []
  }
 ],
 "metadata": {
  "kernelspec": {
   "display_name": "Python 3 (ipykernel)",
   "language": "python",
   "name": "python3"
  },
  "language_info": {
   "codemirror_mode": {
    "name": "ipython",
    "version": 3
   },
   "file_extension": ".py",
   "mimetype": "text/x-python",
   "name": "python",
   "nbconvert_exporter": "python",
   "pygments_lexer": "ipython3",
   "version": "3.13.5"
  }
 },
 "nbformat": 4,
 "nbformat_minor": 5
}
