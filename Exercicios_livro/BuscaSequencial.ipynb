{
 "cells": [
  {
   "cell_type": "markdown",
   "id": "f4ceba63-f936-48f3-8c41-1753c6fb477b",
   "metadata": {},
   "source": [
    "**Implemente uma função em Python chamada buscar_cliente(nome, lista_clientes) que realiza busca sequencial em uma lista de nomes de clientes. Essa função deve retornar o índice onde o nome foi encontrado ou -1 caso o nome não esteja na lista_clientes. Em seguida, escreva um pequeno código de exemplo que utilize essa função para buscar por pelo menos um nome que exista e um que não exista na lista, exibindo mensagens adequadas.**"
   ]
  },
  {
   "cell_type": "code",
   "execution_count": 42,
   "id": "65afa24c-8274-4b53-af23-8a101c6b94ae",
   "metadata": {},
   "outputs": [
    {
     "name": "stdout",
     "output_type": "stream",
     "text": [
      "O nome \"Danusa\" não está na lista\n",
      "O nome \"Helena\" está no índice \"7\"\n"
     ]
    }
   ],
   "source": [
    "def buscar_cliente(nome, lista_clientes):\n",
    "    for i in range(len(lista_clientes)):\n",
    "        if lista_clientes[i] == nome:\n",
    "            return i\n",
    "    return -1\n",
    "\n",
    "lista_clientes = [\"Maria\", \"João\", \"Gabriela\", \"Mariana\", \"Luiz\", \"Macio\", \"Sonia\", \"Helena\", \"Claudia\"]\n",
    "nome1 = \"danusa\".title()\n",
    "nome2 = \"Helena\".title()\n",
    "resultado1 = buscar_cliente(nome1,lista_clientes)\n",
    "resultado2 = buscar_cliente(nome2,lista_clientes)\n",
    "\n",
    "if resultado1 ==-1:\n",
    "    print (f'O nome \"{nome1}\" não está na lista')\n",
    "\n",
    "else:\n",
    "    print (f'O nome \"{nome1}\" está no índice \"{resultado1}\"')\n",
    "\n",
    "if resultado2 ==-1:\n",
    "    print (f'O nome \"{nome2}\" não está na lista')\n",
    "\n",
    "else:\n",
    "    print (f'O nome \"{nome2}\" está no índice \"{resultado2}\"')\n"
   ]
  },
  {
   "cell_type": "markdown",
   "id": "057075fd-9b6a-4879-8266-f7d126c4a4c7",
   "metadata": {},
   "source": [
    "**Crie uma função conta_ocorrencias(valor, lista) em Python que percorre uma lista e conta quantas vezes um determinado valor aparece. Utilize busca sequencial (varrendo a lista) para realizar a contagem. Por exemplo, conta_ocorrencias(3, [1,3,5,3,7]) deve retornar 2, pois o valor 3 aparece duas vezes na lista. Inclua casos de teste chamando a função com diferentes valores e listas.**"
   ]
  },
  {
   "cell_type": "code",
   "execution_count": 67,
   "id": "023e4024-c273-4c07-960a-da9a146e3b6b",
   "metadata": {},
   "outputs": [
    {
     "name": "stdout",
     "output_type": "stream",
     "text": [
      "O número \"47\" teve \"0\" ocorrências\n",
      "O número \"1\" teve \"8\" ocorrências\n"
     ]
    }
   ],
   "source": [
    "def conta_ocorrencias(valor, lista):\n",
    "    contador = 0\n",
    "    for i in lista:\n",
    "        if i == valor:\n",
    "            contador += 1\n",
    "    return contador\n",
    "\n",
    "\n",
    "lista = [3,4,8,7,9,5,7,4,5,3,1,8,4,2,1,8,12,18,4,1,2,7,81,2,87,1,2,8,7,1,57,81,5,7,8,1,57,89,1,1897,98,1,4,897]\n",
    "valor1 = 47\n",
    "valor2 = 1\n",
    "\n",
    "resultado1 = conta_ocorrencias(valor1, lista)\n",
    "\n",
    "resultado2 = conta_ocorrencias(valor2, lista)\n",
    "\n",
    "print(f'O número \"{valor1}\" teve \"{resultado1}\" ocorrências')\n",
    "print(f'O número \"{valor2}\" teve \"{resultado2}\" ocorrências')\n",
    "\n",
    "\n"
   ]
  },
  {
   "cell_type": "markdown",
   "id": "0c12e5e2-5bf3-4332-a16b-5d2996d9e6fc",
   "metadata": {},
   "source": [
    "**Suponha que precisamos remover um elemento específico de uma lista não ordenada. Escreva uma função Python remove_elemento(lista, valor) que remove a primeira ocorrência de valor na lista, mantendo os demais elementos e retornando o valor removido. A função deve retornar None caso o valor não seja encontrado ou a lista esteja vazia. Dica: Utilize a busca sequencial para encontrar a posição do elemento e, se encontrada, deslize os elementos posteriores para “preencher” o espaço removido (ou use métodos próprios da lista Python). Demonstre o funcionamento da função com um exemplo.**"
   ]
  },
  {
   "cell_type": "code",
   "execution_count": 96,
   "id": "b5e30fc1-72e5-4e28-afdf-71b49bfa5edb",
   "metadata": {},
   "outputs": [
    {
     "name": "stdout",
     "output_type": "stream",
     "text": [
      "[200, 100, 90, 78]\n"
     ]
    }
   ],
   "source": [
    "def remove_elemento(lista, valor):\n",
    "    for i in range(len(lista)):\n",
    "        if lista[i] == valor:\n",
    "            indice = i\n",
    "            lista = lista[:i] + lista [i+1:]\n",
    "            return lista\n",
    "    return None\n",
    "\n",
    "lista = [200,300,100,90,78]\n",
    "valor1 = 300\n",
    "valor2 = 500\n",
    "\n",
    "nova_lista1 = remove_elemento(lista, valor1)\n",
    "nova_lista2 = remove_elemento(lista, valor2)\n",
    "\n",
    "print (nova_lista)\n",
    "    \n",
    "            \n",
    "    "
   ]
  },
  {
   "cell_type": "code",
   "execution_count": null,
   "id": "325804cd-1ea3-4595-a09e-8f01fbf4fe83",
   "metadata": {},
   "outputs": [],
   "source": []
  }
 ],
 "metadata": {
  "kernelspec": {
   "display_name": "Python [conda env:base] *",
   "language": "python",
   "name": "conda-base-py"
  },
  "language_info": {
   "codemirror_mode": {
    "name": "ipython",
    "version": 3
   },
   "file_extension": ".py",
   "mimetype": "text/x-python",
   "name": "python",
   "nbconvert_exporter": "python",
   "pygments_lexer": "ipython3",
   "version": "3.12.7"
  }
 },
 "nbformat": 4,
 "nbformat_minor": 5
}
