{
 "cells": [
  {
   "cell_type": "markdown",
   "id": "cd68251c-08df-4ba9-9ade-894909bfab43",
   "metadata": {},
   "source": [
    "Implemente a função busca_binaria de forma recursiva em Python. Ou seja, escreva uma versão da busca binária que chame a si própria recursivamente em vez de usar um loop while. A função deve receber como parâmetros o vetor ordenado, o valor alvo buscado, e opcionalmente os índices esq e dir delimitando o segmento de busca (ou você pode definir a função interna aninhada com esses parâmetros). Retorne o índice do alvo no vetor caso seja encontrado, ou -1 caso contrário."
   ]
  },
  {
   "cell_type": "code",
   "execution_count": 8,
   "id": "c312d3b3-6018-4845-a7d1-507f1cd61b05",
   "metadata": {},
   "outputs": [],
   "source": [
    "def busca_binaria_recursiva(vetor, alvo, esq=0, dir=None):\n",
    "    # Define os parâmetros da função, incluindo valores padrão.\n",
    "    # 'esq' e 'dir' são os índices que delimitam o intervalo de busca.\n",
    "    # 'dir' é inicializado como 'None' para ser calculado na primeira chamada.\n",
    "    \n",
    "    if dir is None:\n",
    "        # Se 'dir' for None (primeira chamada),\n",
    "        # ele é definido como o índice do último elemento do vetor.\n",
    "        dir = len(vetor) - 1\n",
    "        \n",
    "    if esq > dir:\n",
    "        # Esta é a condição de parada: se o índice esquerdo for maior que o direito,\n",
    "        # significa que o elemento não foi encontrado no vetor.\n",
    "        return -1  # Retorna -1 indicando que o elemento não está presente.\n",
    "        \n",
    "\n",
    "    # Calcula o índice do meio do intervalo de busca.\n",
    "    # A divisão inteira '//' garante que o resultado seja um número inteiro.\n",
    "    meio = (esq + dir) // 2\n",
    "\n",
    "    if vetor[meio] == alvo:\n",
    "        # Se o elemento do meio for igual ao alvo, o elemento foi encontrado.\n",
    "        return meio  # Retorna o índice onde o elemento foi encontrado.\n",
    "    \n",
    "    elif vetor[meio] < alvo:\n",
    "        # Se o elemento do meio for menor que o alvo,\n",
    "        # a busca continua na metade direita do vetor.\n",
    "        # A função chama a si mesma com o novo intervalo (meio + 1 até dir).\n",
    "        # A recursão é usada para reduzir o problema.\n",
    "        return busca_binaria_recursiva(vetor, alvo, meio + 1, dir)\n",
    "    \n",
    "    else: # vetor[meio] > alvo\n",
    "        # Se o elemento do meio for maior que o alvo,\n",
    "        # a busca continua na metade esquerda do vetor.\n",
    "        # A função chama a si mesma com o novo intervalo (esq até meio - 1).\n",
    "        # A recursão é novamente usada para reduzir o problema.\n",
    "        return busca_binaria_recursiva(vetor, alvo, esq, meio - 1)\n"
   ]
  },
  {
   "cell_type": "code",
   "execution_count": 17,
   "id": "e04f97b3-c806-473d-a628-14693481448b",
   "metadata": {},
   "outputs": [
    {
     "name": "stdout",
     "output_type": "stream",
     "text": [
      " O número alvo \"15\" está no índice 10\n"
     ]
    }
   ],
   "source": [
    "vetor = [1, 2, 3, 4, 5, 6, 8, 9, 10, 11, 15, 17, 22, 25, 30]\n",
    "alvo = 15\n",
    "indice = busca_binaria_recursiva(vetor, alvo, esq=0, dir=None)\n",
    "\n",
    "if indice != -1:\n",
    "    print (f' O número alvo \"{alvo}\" está no índice {indice}')\n",
    "else:\n",
    "    print (f' O número alvo \"{alvo}\" não foi encontrado na lista')\n"
   ]
  },
  {
   "cell_type": "markdown",
   "id": "dc30b305-bb97-458f-9f99-fe44de70770d",
   "metadata": {},
   "source": [
    "Considere uma lista Python de 1000 números inteiros já ordenados em ordem crescente. Escreva um pequeno programa que utilize tanto a busca sequencial quanto a busca binária para encontrar um determinado número nessa lista e conte o número de comparações feitas em cada método. Faça o teste com um número que não esteja presente na lista (para forçar o pior caso) e exiba na saída o total de comparações realizadas por cada método. (Dica: você pode modificar as funções de busca para incrementarem um contador global ou utilizar variáveis externas para contar as comparações.)"
   ]
  },
  {
   "cell_type": "code",
   "execution_count": 72,
   "id": "8cbd868e-596a-4e32-a49e-35780943e658",
   "metadata": {},
   "outputs": [
    {
     "name": "stdout",
     "output_type": "stream",
     "text": [
      " \n",
      "Foi necessário 1000 comparações na busca sequencial;\n",
      "E somente 10 comparações na busca binária\n"
     ]
    }
   ],
   "source": [
    "# Gerando a lista ordenada de 0 a 999 \n",
    "lista = list(range(1000)) \n",
    "alvo = 1001 # valor que não está na lista para pior caso \n",
    "contador_sequencial = 0 #contador\n",
    "contador_binaria = 0 #contdor\n",
    "\n",
    "def busca_sequencial(lista,alvo):\n",
    "    global contador_sequencial\n",
    "    for i in lista:\n",
    "        contador_sequencial += 1\n",
    "        if i ==alvo:\n",
    "            return i\n",
    "    return -1\n",
    "\n",
    "def busca_binaria (lista,alvo):\n",
    "    global contador_binaria\n",
    "    esquerda = 0\n",
    "    direita = len(lista) -1\n",
    "    \n",
    "    while esquerda <= direita: \n",
    "        contador_binaria += 1       \n",
    "        meio = (esquerda + direita)//2\n",
    "        if lista[meio] == alvo:\n",
    "            return meio\n",
    "        if lista[meio] < alvo:\n",
    "            esquerda = meio +1\n",
    "        else:\n",
    "            direita = meio -1\n",
    "    return -1\n",
    "\n",
    "busca_sequencial(lista,alvo)\n",
    "busca_binaria (lista,alvo)\n",
    "\n",
    "print(f\"\"\" \n",
    "Foi necessário {contador_sequencial} comparações na busca sequencial;\n",
    "E somente {contador_binaria} comparações na busca binária\"\"\")\n",
    "\n",
    "\n",
    "\n",
    "\n"
   ]
  },
  {
   "cell_type": "markdown",
   "id": "1c7ef713-4b8c-4491-9df1-ca0cefb1a0e9",
   "metadata": {},
   "source": [
    "Projeto 1: Busca Eficiente em um Catálogo de Produtos Online Contexto: Imagine que você está desenvolvendo a funcionalidade de busca para um site de e-commerce com um grande número de produtos. O catálogo de produtos é armazenado em uma lista, onde cada item é um dicionário contendo informações como nome, preço e descrição. Para otimizar a busca, o catálogo é mantido ordenado alfabeticamente pelo nome do produto. Problema: Os clientes precisam encontrar rapidamente informações sobre um produto específico digitando seu nome na barra de busca. Uma busca lenta pode levar à frustração e à perda de vendas. Indicação de como resolver: Implemente um sistema de busca que utilize a busca binária para localizar o produto no catálogo ordenado. Ao receber o nome do produto digitado pelo usuário, sua função deve realizar a busca binária na lista de produtos. Se o produto for encontrado, retorne suas informações (por exemplo, preço, descrição). Caso contrário, informe que o produto não foi encontrado."
   ]
  },
  {
   "cell_type": "code",
   "execution_count": 107,
   "id": "ac3c0bf3-bed0-475d-92e3-bf73e61cddf4",
   "metadata": {},
   "outputs": [
    {
     "name": "stdin",
     "output_type": "stream",
     "text": [
      "Digite o produto procurado:  mouse\n"
     ]
    },
    {
     "name": "stdout",
     "output_type": "stream",
     "text": [
      "Produto encontrado: Mouse\n",
      "Preço: R$50.00\n",
      "Descrição: Mouse sem fio, ergonômico e confortável.\n"
     ]
    }
   ],
   "source": [
    "catalogo = [\n",
    "    {'nome': 'Mouse','preco': 50.00,'descricao': 'Mouse sem fio, ergonômico e confortável.'},\n",
    "    {'nome': 'Monitor','preco': 800.00,'descricao': 'Monitor de 24 polegadas, Full HD.'},\n",
    "    {'nome': 'Teclado','preco': 150.00,'descricao': 'Teclado mecânico com iluminação RGB.' },\n",
    "    {'nome': 'Cadeira Gamer','preco': 1900.00,'descricao': 'Disigner bonito, ergonômico e confortável.'},\n",
    "    {'nome': 'Celular','preco': 2000.00,'descricao': 'Celular Motorola, G985'},\n",
    "    {'nome': 'Notebook','preco': 10000.00,'descricao': 'Notebook ultitrafino.'}]\n",
    "    \n",
    "catalogo.sort(key=lambda item: item['nome'])\n",
    "\n",
    "def busca_produto(lista,produto):\n",
    "    inicio = 0\n",
    "    fim = len(lista) -1\n",
    "    while inicio <= fim:\n",
    "        meio = (inicio + fim)//2\n",
    "        if lista[meio]['nome'] == produto:\n",
    "            return lista[meio]\n",
    "        if lista[meio]['nome'] < produto:\n",
    "            inicio = meio + 1\n",
    "        else:\n",
    "            fim = meio -1\n",
    "    return None\n",
    "\n",
    "produto = input (\"Digite o produto procurado: \").title()\n",
    "\n",
    "\n",
    "\n",
    "resultado_busca = busca_produto(catalogo, produto)\n",
    "\n",
    "if resultado_busca:  \n",
    "    print(f\"Produto encontrado: {resultado_busca['nome']}\")\n",
    "    print(f\"Preço: R${resultado_busca['preco']:.2f}\")\n",
    "    print(f\"Descrição: {resultado_busca['descricao']}\")\n",
    "else:\n",
    "    print(f'\\nO produto \"{produto}\" não foi localizado.')\n",
    "\n",
    "\n",
    "\n",
    "\n"
   ]
  },
  {
   "cell_type": "code",
   "execution_count": null,
   "id": "21454172-c7a5-438f-ac71-2b50c30d2635",
   "metadata": {},
   "outputs": [],
   "source": []
  }
 ],
 "metadata": {
  "kernelspec": {
   "display_name": "Python [conda env:base] *",
   "language": "python",
   "name": "conda-base-py"
  },
  "language_info": {
   "codemirror_mode": {
    "name": "ipython",
    "version": 3
   },
   "file_extension": ".py",
   "mimetype": "text/x-python",
   "name": "python",
   "nbconvert_exporter": "python",
   "pygments_lexer": "ipython3",
   "version": "3.12.7"
  }
 },
 "nbformat": 4,
 "nbformat_minor": 5
}
