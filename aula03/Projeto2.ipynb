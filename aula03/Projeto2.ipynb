{
 "cells": [
  {
   "cell_type": "markdown",
   "id": "fe42331c-b989-4d98-84a8-e3e02f7d10a1",
   "metadata": {},
   "source": [
    "**Verificando Lista de Convidado:**\n",
    "\n",
    "**Contexto:** Desenvolver um programa para gerenciar a lista de convidados de um evento\n",
    "\n",
    "**Problema:** Implementar uma funcionalidade que permita verificar se um nome específico esta na lista de convidados.\n"
   ]
  },
  {
   "cell_type": "code",
   "execution_count": 5,
   "id": "e284941d-8dca-4162-8c9c-5becf3aff878",
   "metadata": {},
   "outputs": [
    {
     "name": "stdin",
     "output_type": "stream",
     "text": [
      "Digite o nome e sobrenome do convidado:  ana mendes\n"
     ]
    },
    {
     "name": "stdout",
     "output_type": "stream",
     "text": [
      "\"Ana Mendes\" está na lista!\n"
     ]
    }
   ],
   "source": [
    "def convidados (lista, nome):\n",
    "    for i in range (len(lista)):\n",
    "        if lista[i] == nome:\n",
    "            return  i\n",
    "    return -1\n",
    "\n",
    "nome = input (\"Digite o nome e sobrenome do convidado: \").title()\n",
    "\n",
    "lista = [\"Ana Mendes\", \"Bruno Torres\", \"Carlos Emanuel\", \"Daniela Mercury\"]\n",
    "\n",
    "resultado = convidados (lista, nome)\n",
    "if resultado !=-1:\n",
    "    print(f'\"{nome}\" está na lista!')\n",
    "else:\n",
    "    print (\"Convidado não encontrado na lista\")\n"
   ]
  },
  {
   "cell_type": "code",
   "execution_count": null,
   "id": "45ef90ef-f4d0-4b78-b79b-8ad912bcc30c",
   "metadata": {},
   "outputs": [],
   "source": []
  },
  {
   "cell_type": "code",
   "execution_count": null,
   "id": "07ae4d5a-c3fc-45d1-bebf-cba2d9dce9e2",
   "metadata": {},
   "outputs": [],
   "source": []
  }
 ],
 "metadata": {
  "kernelspec": {
   "display_name": "Python 3 (ipykernel)",
   "language": "python",
   "name": "python3"
  },
  "language_info": {
   "codemirror_mode": {
    "name": "ipython",
    "version": 3
   },
   "file_extension": ".py",
   "mimetype": "text/x-python",
   "name": "python",
   "nbconvert_exporter": "python",
   "pygments_lexer": "ipython3",
   "version": "3.13.5"
  }
 },
 "nbformat": 4,
 "nbformat_minor": 5
}
