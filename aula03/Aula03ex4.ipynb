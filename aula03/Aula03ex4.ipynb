{
 "cells": [
  {
   "cell_type": "code",
   "execution_count": 8,
   "id": "d92870bc-67d2-4481-b830-1faf8da182fa",
   "metadata": {},
   "outputs": [],
   "source": [
    "def busca_cliente(nome,lista_cliente):\n",
    "    for i in range(len(lista_cliente)):\n",
    "        if lista_cliente[i] == nome:\n",
    "            return i\n",
    "    return -1\n",
    "\n",
    "\n"
   ]
  },
  {
   "cell_type": "code",
   "execution_count": 29,
   "id": "c62706fa-9444-4b8f-b2fe-51afd19d098e",
   "metadata": {},
   "outputs": [
    {
     "name": "stdin",
     "output_type": "stream",
     "text": [
      "Digite o nome:  Gabriela\n"
     ]
    },
    {
     "name": "stdout",
     "output_type": "stream",
     "text": [
      "O nome Gabriela está no indice 0\n"
     ]
    }
   ],
   "source": [
    "lista = [\"Gabriela\", \"Gustavo\", \"Piva\", \"Carol\"]\n",
    "\n",
    "nome = input (\"Digite o nome: \").title()\n",
    "\n",
    "resultado = busca_cliente(nome,lista)\n",
    "\n",
    "if resultado != -1:\n",
    "    print(f'O nome {nome} está no indice {resultado}')\n",
    "else:\n",
    "    print(f'O nome {nome} não está lista')"
   ]
  },
  {
   "cell_type": "code",
   "execution_count": null,
   "id": "9ea0ab91-0ed3-4d5c-ac2b-a2e58c63b225",
   "metadata": {},
   "outputs": [],
   "source": [
    "\n",
    "        \n",
    "    \n"
   ]
  },
  {
   "cell_type": "code",
   "execution_count": null,
   "id": "d3feaa76-ace9-4f9c-ac59-6807a48eb96c",
   "metadata": {},
   "outputs": [],
   "source": []
  }
 ],
 "metadata": {
  "kernelspec": {
   "display_name": "Python 3 (ipykernel)",
   "language": "python",
   "name": "python3"
  },
  "language_info": {
   "codemirror_mode": {
    "name": "ipython",
    "version": 3
   },
   "file_extension": ".py",
   "mimetype": "text/x-python",
   "name": "python",
   "nbconvert_exporter": "python",
   "pygments_lexer": "ipython3",
   "version": "3.13.5"
  }
 },
 "nbformat": 4,
 "nbformat_minor": 5
}
